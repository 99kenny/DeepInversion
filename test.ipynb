{
 "cells": [
  {
   "cell_type": "code",
   "execution_count": 12,
   "metadata": {},
   "outputs": [
    {
     "name": "stdout",
     "output_type": "stream",
     "text": [
      "tensor([1])\n",
      "tensor([0.2302, 0.3213, 0.4484])\n",
      "tensor([0.2302, 0.3213, 0.4484])\n"
     ]
    },
    {
     "name": "stderr",
     "output_type": "stream",
     "text": [
      "C:\\Users\\99san\\AppData\\Local\\Temp\\ipykernel_2364\\957846762.py:7: UserWarning: Implicit dimension choice for softmax has been deprecated. Change the call to include dim=X as an argument.\n",
      "  c = torch.nn.functional.softmax(b / 3)\n"
     ]
    }
   ],
   "source": [
    "import numpy as np\n",
    "import torch\n",
    "\n",
    "a = torch.asarray([1])\n",
    "print(a)\n",
    "b = torch.asarray([0.,1.,2.])\n",
    "c = torch.nn.functional.softmax(b / 3)\n",
    "print(c)\n",
    "d = torch.clamp(c, 0.01,0.99)\n",
    "print(d)"
   ]
  },
  {
   "cell_type": "code",
   "execution_count": 27,
   "metadata": {},
   "outputs": [
    {
     "ename": "NameError",
     "evalue": "name 'length' is not defined",
     "output_type": "error",
     "traceback": [
      "\u001b[1;31m---------------------------------------------------------------------------\u001b[0m",
      "\u001b[1;31mNameError\u001b[0m                                 Traceback (most recent call last)",
      "\u001b[1;32mc:\\Users\\99san\\Workspace\\MyDeepInversion\\test.ipynb Cell 2\u001b[0m line \u001b[0;36m2\n\u001b[0;32m      <a href='vscode-notebook-cell:/c%3A/Users/99san/Workspace/MyDeepInversion/test.ipynb#W1sZmlsZQ%3D%3D?line=0'>1</a>\u001b[0m targets \u001b[39m=\u001b[39m [\u001b[39meval\u001b[39m(i) \u001b[39mfor\u001b[39;00m i \u001b[39min\u001b[39;00m \u001b[39m\"\u001b[39m\u001b[39m1,2,3\u001b[39m\u001b[39m\"\u001b[39m\u001b[39m.\u001b[39msplit(\u001b[39m'\u001b[39m\u001b[39m,\u001b[39m\u001b[39m'\u001b[39m)]\n\u001b[1;32m----> <a href='vscode-notebook-cell:/c%3A/Users/99san/Workspace/MyDeepInversion/test.ipynb#W1sZmlsZQ%3D%3D?line=1'>2</a>\u001b[0m \u001b[39mprint\u001b[39m(targets \u001b[39m*\u001b[39m length(targets))\n",
      "\u001b[1;31mNameError\u001b[0m: name 'length' is not defined"
     ]
    }
   ],
   "source": [
    "targets = [eval(i) for i in \"1,2,3\".split(',')]\n",
    "print(targets * length(targets))"
   ]
  },
  {
   "cell_type": "markdown",
   "metadata": {},
   "source": [
    "Distilled Dataset check"
   ]
  },
  {
   "cell_type": "code",
   "execution_count": 8,
   "metadata": {},
   "outputs": [
    {
     "name": "stdout",
     "output_type": "stream",
     "text": [
      "Loading distilled datasets from ./results/final_images/vgg11_inversion ...\n"
     ]
    },
    {
     "data": {
      "text/plain": [
       "tensor([[[0.0078, 0.0000, 0.0118,  ..., 0.0000, 0.0000, 0.0000],\n",
       "         [0.0078, 0.0314, 0.0039,  ..., 0.0706, 0.0706, 0.0510],\n",
       "         [0.0039, 0.0039, 0.0157,  ..., 0.0275, 0.0510, 0.0000],\n",
       "         ...,\n",
       "         [0.0824, 0.1059, 0.1255,  ..., 0.3333, 0.2471, 0.0196],\n",
       "         [0.1922, 0.2039, 0.2902,  ..., 0.3490, 0.1961, 0.0000],\n",
       "         [0.2980, 0.3020, 0.4510,  ..., 0.3686, 0.2745, 0.1725]],\n",
       "\n",
       "        [[0.0275, 0.0157, 0.0314,  ..., 0.0196, 0.0275, 0.0431],\n",
       "         [0.0275, 0.0510, 0.0235,  ..., 0.1137, 0.1216, 0.1020],\n",
       "         [0.0196, 0.0235, 0.0275,  ..., 0.0784, 0.1059, 0.0157],\n",
       "         ...,\n",
       "         [0.0667, 0.0824, 0.0902,  ..., 0.3686, 0.2863, 0.0627],\n",
       "         [0.1725, 0.1765, 0.2471,  ..., 0.4000, 0.2588, 0.0510],\n",
       "         [0.2784, 0.2784, 0.4118,  ..., 0.4314, 0.3451, 0.2471]],\n",
       "\n",
       "        [[0.0431, 0.0314, 0.0471,  ..., 0.0431, 0.0510, 0.0667],\n",
       "         [0.0510, 0.0667, 0.0471,  ..., 0.1373, 0.1451, 0.1255],\n",
       "         [0.0549, 0.0471, 0.0627,  ..., 0.1020, 0.1176, 0.0275],\n",
       "         ...,\n",
       "         [0.0196, 0.0275, 0.0314,  ..., 0.3569, 0.2510, 0.0078],\n",
       "         [0.0980, 0.1020, 0.1686,  ..., 0.3647, 0.2078, 0.0000],\n",
       "         [0.1922, 0.1843, 0.3137,  ..., 0.3922, 0.2824, 0.1725]]])"
      ]
     },
     "execution_count": 8,
     "metadata": {},
     "output_type": "execute_result"
    }
   ],
   "source": [
    "import os \n",
    "from torch.utils.data import Dataset\n",
    "from PIL import Image\n",
    "from torchvision import transforms \n",
    "class DistilledDataset(Dataset):\n",
    "    def __init__(self, path, transforms=None):\n",
    "        super().__init__()\n",
    "        self.path = path\n",
    "        self.transforms=transforms\n",
    "        self.data = []\n",
    "        print('Loading distilled datasets from {} ...'.format(path))    \n",
    "        for image in os.listdir(path):\n",
    "            file = os.path.join(path, image)\n",
    "            if os.path.isfile(file):\n",
    "                class_id = eval(image.split('_')[0])\n",
    "                self.data.append([file,class_id])\n",
    "        \n",
    "        \n",
    "    def __getitem__(self, index):\n",
    "        image = self.data[index][0]\n",
    "        x = self.transforms(Image.open(image))\n",
    "        y = self.data[index][1]\n",
    "        \n",
    "        return x, y\n",
    "            \n",
    "# test\n",
    "path = './results/final_images/vgg11_inversion'\n",
    "dataset = DistilledDataset(path, transforms=transforms.Compose([transforms.ToTensor()]))\n",
    "dataset.__getitem__(0)[0]"
   ]
  },
  {
   "cell_type": "code",
   "execution_count": 34,
   "metadata": {},
   "outputs": [
    {
     "name": "stdout",
     "output_type": "stream",
     "text": [
      "torch.Size([1, 3, 32, 32])\n",
      "torch.Size([1, 3, 32, 32])\n",
      "torch.Size([2, 3, 32, 32])\n"
     ]
    }
   ],
   "source": [
    "import torch\n",
    "input = torch.Tensor()\n",
    "img1 = torch.unsqueeze(torch.rand(3,32,32),0)\n",
    "img2 = torch.unsqueeze(torch.rand(3,32,32),0)\n",
    "print(img1.shape)\n",
    "input = torch.cat((input, img1))\n",
    "print(input.shape)\n",
    "input = torch.cat((input, img2))\n",
    "print(input.shape)"
   ]
  },
  {
   "cell_type": "code",
   "execution_count": null,
   "metadata": {},
   "outputs": [],
   "source": [
    "train_dataset"
   ]
  }
 ],
 "metadata": {
  "kernelspec": {
   "display_name": "Python 3",
   "language": "python",
   "name": "python3"
  },
  "language_info": {
   "codemirror_mode": {
    "name": "ipython",
    "version": 3
   },
   "file_extension": ".py",
   "mimetype": "text/x-python",
   "name": "python",
   "nbconvert_exporter": "python",
   "pygments_lexer": "ipython3",
   "version": "3.11.2"
  },
  "orig_nbformat": 4
 },
 "nbformat": 4,
 "nbformat_minor": 2
}
