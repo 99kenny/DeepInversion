{
 "cells": [
  {
   "cell_type": "code",
   "execution_count": 12,
   "metadata": {},
   "outputs": [
    {
     "name": "stdout",
     "output_type": "stream",
     "text": [
      "tensor([1])\n",
      "tensor([0.2302, 0.3213, 0.4484])\n",
      "tensor([0.2302, 0.3213, 0.4484])\n"
     ]
    },
    {
     "name": "stderr",
     "output_type": "stream",
     "text": [
      "C:\\Users\\99san\\AppData\\Local\\Temp\\ipykernel_2364\\957846762.py:7: UserWarning: Implicit dimension choice for softmax has been deprecated. Change the call to include dim=X as an argument.\n",
      "  c = torch.nn.functional.softmax(b / 3)\n"
     ]
    }
   ],
   "source": [
    "import numpy as np\n",
    "import torch\n",
    "\n",
    "a = torch.asarray([1])\n",
    "print(a)\n",
    "b = torch.asarray([0.,1.,2.])\n",
    "c = torch.nn.functional.softmax(b / 3)\n",
    "print(c)\n",
    "d = torch.clamp(c, 0.01,0.99)\n",
    "print(d)"
   ]
  },
  {
   "cell_type": "code",
   "execution_count": 27,
   "metadata": {},
   "outputs": [
    {
     "ename": "NameError",
     "evalue": "name 'length' is not defined",
     "output_type": "error",
     "traceback": [
      "\u001b[1;31m---------------------------------------------------------------------------\u001b[0m",
      "\u001b[1;31mNameError\u001b[0m                                 Traceback (most recent call last)",
      "\u001b[1;32mc:\\Users\\99san\\Workspace\\MyDeepInversion\\test.ipynb Cell 2\u001b[0m line \u001b[0;36m2\n\u001b[0;32m      <a href='vscode-notebook-cell:/c%3A/Users/99san/Workspace/MyDeepInversion/test.ipynb#W1sZmlsZQ%3D%3D?line=0'>1</a>\u001b[0m targets \u001b[39m=\u001b[39m [\u001b[39meval\u001b[39m(i) \u001b[39mfor\u001b[39;00m i \u001b[39min\u001b[39;00m \u001b[39m\"\u001b[39m\u001b[39m1,2,3\u001b[39m\u001b[39m\"\u001b[39m\u001b[39m.\u001b[39msplit(\u001b[39m'\u001b[39m\u001b[39m,\u001b[39m\u001b[39m'\u001b[39m)]\n\u001b[1;32m----> <a href='vscode-notebook-cell:/c%3A/Users/99san/Workspace/MyDeepInversion/test.ipynb#W1sZmlsZQ%3D%3D?line=1'>2</a>\u001b[0m \u001b[39mprint\u001b[39m(targets \u001b[39m*\u001b[39m length(targets))\n",
      "\u001b[1;31mNameError\u001b[0m: name 'length' is not defined"
     ]
    }
   ],
   "source": [
    "targets = [eval(i) for i in \"1,2,3\".split(',')]\n",
    "print(targets * length(targets))"
   ]
  },
  {
   "cell_type": "markdown",
   "metadata": {},
   "source": [
    "Distilled Dataset check"
   ]
  },
  {
   "cell_type": "code",
   "execution_count": 8,
   "metadata": {},
   "outputs": [
    {
     "ename": "TypeError",
     "evalue": "DistilledDataset.__init__() got an unexpected keyword argument 'transform'",
     "output_type": "error",
     "traceback": [
      "\u001b[1;31m---------------------------------------------------------------------------\u001b[0m",
      "\u001b[1;31mTypeError\u001b[0m                                 Traceback (most recent call last)",
      "\u001b[1;32mc:\\Users\\99san\\Workspace\\MyDeepInversion\\test.ipynb Cell 4\u001b[0m line \u001b[0;36m2\n\u001b[0;32m     <a href='vscode-notebook-cell:/c%3A/Users/99san/Workspace/MyDeepInversion/test.ipynb#W3sZmlsZQ%3D%3D?line=24'>25</a>\u001b[0m \u001b[39m# test\u001b[39;00m\n\u001b[0;32m     <a href='vscode-notebook-cell:/c%3A/Users/99san/Workspace/MyDeepInversion/test.ipynb#W3sZmlsZQ%3D%3D?line=25'>26</a>\u001b[0m path \u001b[39m=\u001b[39m \u001b[39m'\u001b[39m\u001b[39m./results/final_images/vgg11_inversion\u001b[39m\u001b[39m'\u001b[39m\n\u001b[1;32m---> <a href='vscode-notebook-cell:/c%3A/Users/99san/Workspace/MyDeepInversion/test.ipynb#W3sZmlsZQ%3D%3D?line=26'>27</a>\u001b[0m dataset \u001b[39m=\u001b[39m DistilledDataset(path, transform\u001b[39m=\u001b[39;49mtransforms\u001b[39m.\u001b[39;49mCompose([transforms\u001b[39m.\u001b[39;49mToTensor()]))\n\u001b[0;32m     <a href='vscode-notebook-cell:/c%3A/Users/99san/Workspace/MyDeepInversion/test.ipynb#W3sZmlsZQ%3D%3D?line=27'>28</a>\u001b[0m x,y \u001b[39m=\u001b[39m dataset\u001b[39m.\u001b[39m\u001b[39m__getitem__\u001b[39m(\u001b[39m0\u001b[39m)\n\u001b[0;32m     <a href='vscode-notebook-cell:/c%3A/Users/99san/Workspace/MyDeepInversion/test.ipynb#W3sZmlsZQ%3D%3D?line=28'>29</a>\u001b[0m \u001b[39mprint\u001b[39m(x\u001b[39m.\u001b[39mshape)\n",
      "\u001b[1;31mTypeError\u001b[0m: DistilledDataset.__init__() got an unexpected keyword argument 'transform'"
     ]
    }
   ],
   "source": [
    "import os \n",
    "from torch.utils.data import Dataset\n",
    "from PIL import Image\n",
    "from torchvision import transforms \n",
    "class DistilledDataset(Dataset):\n",
    "    def __init__(self, path):\n",
    "        super().__init__()\n",
    "        self.path = path\n",
    "        self.data = []\n",
    "        print('Loading distilled datasets from {} ...'.format(path))    \n",
    "        for image in os.listdir(path):\n",
    "            file = os.path.join(path, image)\n",
    "            if os.path.isfile(file):\n",
    "                class_id = eval(image.split('_')[0])\n",
    "                self.data.append([file,class_id])\n",
    "        \n",
    "        \n",
    "    def __getitem__(self, index):\n",
    "        image = self.data[index][0]\n",
    "        x = Image.open(image)\n",
    "        y = self.data[index][1]\n",
    "        \n",
    "        return x, y\n",
    "            \n",
    "# test\n",
    "path = './results/final_images/vgg11_inversion'\n",
    "dataset = DistilledDataset(path, transform=transforms.Compose([transforms.ToTensor()]))\n",
    "x,y = dataset.__getitem__(0)\n",
    "print(x.shape)\n",
    "print(y)"
   ]
  }
 ],
 "metadata": {
  "kernelspec": {
   "display_name": "Python 3",
   "language": "python",
   "name": "python3"
  },
  "language_info": {
   "codemirror_mode": {
    "name": "ipython",
    "version": 3
   },
   "file_extension": ".py",
   "mimetype": "text/x-python",
   "name": "python",
   "nbconvert_exporter": "python",
   "pygments_lexer": "ipython3",
   "version": "3.11.2"
  },
  "orig_nbformat": 4
 },
 "nbformat": 4,
 "nbformat_minor": 2
}
